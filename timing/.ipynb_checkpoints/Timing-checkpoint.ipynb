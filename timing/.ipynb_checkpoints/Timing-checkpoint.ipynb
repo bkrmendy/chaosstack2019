{
 "cells": [
  {
   "cell_type": "code",
   "execution_count": 1,
   "metadata": {
    "collapsed": true
   },
   "outputs": [],
   "source": [
    "example = \"\"\"20;40: A + B\n",
    "73;158: A + B\n",
    "99;146: B\n",
    "79;172: A + B\n",
    "5;198: A + B\n",
    "7;105: A\n",
    "45;158: A + B\n",
    "2;191: B\n",
    "54;10: B\n",
    "29;153: A\n",
    "34;15: A\n",
    "68;40: B\n",
    "31;90: B\n",
    "27;180: A + B\n",
    "74;4: A + B\n",
    "74;93: A\n",
    "35;109: A + B\n",
    "5;125: A + B\n",
    "80;59: B\n",
    "36;56: A + B\n",
    "64;68: B\n",
    "92;66: A + B\"\"\""
   ]
  },
  {
   "cell_type": "code",
   "execution_count": 3,
   "metadata": {
    "collapsed": false
   },
   "outputs": [],
   "source": [
    "from collections import namedtuple\n",
    "\n",
    "Record = namedtuple('Record', 'x y measurement')"
   ]
  },
  {
   "cell_type": "code",
   "execution_count": 18,
   "metadata": {
    "collapsed": true
   },
   "outputs": [],
   "source": [
    "import math\n",
    "\n",
    "def distance(head_x, head_y, record, head):\n",
    "    head_switch = 0\n",
    "    if (head not in record.measurement):\n",
    "        head_switch = 60\n",
    "    return head_switch + math.abs(record.x - head_x) + math.abs(record.y - head_y)"
   ]
  },
  {
   "cell_type": "code",
   "execution_count": 19,
   "metadata": {
    "collapsed": true
   },
   "outputs": [],
   "source": [
    "def measure(record, head):\n",
    "    return \"{};{}: {}\".format(record.x, record.y, head)"
   ]
  },
  {
   "cell_type": "code",
   "execution_count": 9,
   "metadata": {
    "collapsed": true
   },
   "outputs": [],
   "source": [
    "measureTimes = {\n",
    "    \"A\": 2,\n",
    "    \"B\": 3\n",
    "}"
   ]
  },
  {
   "cell_type": "code",
   "execution_count": 37,
   "metadata": {
    "collapsed": true
   },
   "outputs": [],
   "source": [
    "def parseLine(line):\n",
    "    semiIndex = line.index(\";\")\n",
    "    colonIndex = line.index(\":\")\n",
    "    x = int(line[0:semiIndex])\n",
    "    y = int(line[semiIndex + 1:colonIndex])\n",
    "    measurement=line[colonIndex+2:]\n",
    "    if measurement == \"A\":\n",
    "        return Record(x, y, \"A\")\n",
    "    if measurement == \"B\":\n",
    "        return Record(x, y, \"B\")\n",
    "    return [Record(x, y, \"A\"), Record(x, y, \"B\")]\n",
    "\n",
    "def parse(lines):\n",
    "    return [*parseLine(line) for line in lines]"
   ]
  },
  {
   "cell_type": "code",
   "execution_count": 33,
   "metadata": {
    "collapsed": true
   },
   "outputs": [],
   "source": [
    "def simple_measure(records):\n",
    "    res = []\n",
    "    for record in records:\n",
    "        if \"A\" in record.measurement:\n",
    "            res.append(measure(record, \"A\"))\n",
    "        if \"B\" in record.measurement:\n",
    "            res.append(measure(record, \"B\"))\n",
    "    return res"
   ]
  },
  {
   "cell_type": "code",
   "execution_count": null,
   "metadata": {
    "collapsed": true
   },
   "outputs": [],
   "source": []
  }
 ],
 "metadata": {
  "anaconda-cloud": {},
  "kernelspec": {
   "display_name": "Python [py35]",
   "language": "python",
   "name": "Python [py35]"
  },
  "language_info": {
   "codemirror_mode": {
    "name": "ipython",
    "version": 3
   },
   "file_extension": ".py",
   "mimetype": "text/x-python",
   "name": "python",
   "nbconvert_exporter": "python",
   "pygments_lexer": "ipython3",
   "version": "3.5.1"
  }
 },
 "nbformat": 4,
 "nbformat_minor": 0
}
