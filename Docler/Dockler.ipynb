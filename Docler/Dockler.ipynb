{
 "cells": [
  {
   "cell_type": "code",
   "execution_count": 21,
   "metadata": {
    "collapsed": true
   },
   "outputs": [],
   "source": [
    "example = \"\"\"1\n",
    "2 1\n",
    "4 1 8\n",
    "2 2 3 4\"\"\""
   ]
  },
  {
   "cell_type": "code",
   "execution_count": 22,
   "metadata": {
    "collapsed": true
   },
   "outputs": [],
   "source": [
    "def to_levels(input_string):\n",
    "    levels = input_string.split(\"\\n\")\n",
    "    return [[int(node) for node in level.split(\" \")] for level in levels]"
   ]
  },
  {
   "cell_type": "code",
   "execution_count": 29,
   "metadata": {
    "collapsed": true
   },
   "outputs": [],
   "source": [
    "def max_sum(levels):\n",
    "    max_weight = -1\n",
    "    for offset in range(len(levels)):\n",
    "        current_weight = 0\n",
    "        for (level_number, level) in enumerate(levels):\n",
    "            current_offset = min(offset, len(levels[level_number]) - 1)\n",
    "            current_weight += levels[level_number][current_offset]\n",
    "            if (level_number == len(levels) - 1):\n",
    "                max_weight = max(max_weight, current_weight)\n",
    "    return max_weight"
   ]
  },
  {
   "cell_type": "code",
   "execution_count": 30,
   "metadata": {
    "collapsed": false
   },
   "outputs": [
    {
     "data": {
      "text/plain": [
       "14"
      ]
     },
     "execution_count": 30,
     "metadata": {},
     "output_type": "execute_result"
    }
   ],
   "source": [
    "max_sum(to_levels(example))"
   ]
  }
 ],
 "metadata": {
  "anaconda-cloud": {},
  "kernelspec": {
   "display_name": "Python [Root]",
   "language": "python",
   "name": "Python [Root]"
  },
  "language_info": {
   "codemirror_mode": {
    "name": "ipython",
    "version": 3
   },
   "file_extension": ".py",
   "mimetype": "text/x-python",
   "name": "python",
   "nbconvert_exporter": "python",
   "pygments_lexer": "ipython3",
   "version": "3.5.2"
  }
 },
 "nbformat": 4,
 "nbformat_minor": 0
}
